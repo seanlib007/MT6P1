{
 "cells": [
  {
   "cell_type": "code",
   "execution_count": 5,
   "id": "cooperative-leisure",
   "metadata": {},
   "outputs": [],
   "source": [
    "from sympy.abc import x,y,a,p,q,c,b\n",
    "from sympy import *\n",
    "def type4(z):\n",
    "    sol=z.subs(p,a).subs(q,b)\n",
    "    print(\"the solution is z=\",sol)\n",
    "    "
   ]
  },
  {
   "cell_type": "code",
   "execution_count": 6,
   "id": "meaning-interval",
   "metadata": {},
   "outputs": [
    {
     "name": "stdout",
     "output_type": "stream",
     "text": [
      "the solution is z= a**2 + a*x + b**2 + b*y\n"
     ]
    }
   ],
   "source": [
    "type4(p*x+q*y+p**2+q**2)"
   ]
  },
  {
   "cell_type": "code",
   "execution_count": 7,
   "id": "effective-grammar",
   "metadata": {},
   "outputs": [
    {
     "name": "stdout",
     "output_type": "stream",
     "text": [
      "the solution is z= a*b/(a - b) + a*x + b*y\n"
     ]
    }
   ],
   "source": [
    "type4(p*x+q*y+p*q/(p-q))"
   ]
  },
  {
   "cell_type": "code",
   "execution_count": 8,
   "id": "compatible-trout",
   "metadata": {},
   "outputs": [
    {
     "name": "stdout",
     "output_type": "stream",
     "text": [
      "the solution is z= a*x + b*y + log(a*b)\n"
     ]
    }
   ],
   "source": [
    "type4(p*x+q*y+log(p*q))"
   ]
  },
  {
   "cell_type": "code",
   "execution_count": null,
   "id": "possible-sandwich",
   "metadata": {},
   "outputs": [],
   "source": []
  }
 ],
 "metadata": {
  "kernelspec": {
   "display_name": "Python 3",
   "language": "python",
   "name": "python3"
  },
  "language_info": {
   "codemirror_mode": {
    "name": "ipython",
    "version": 3
   },
   "file_extension": ".py",
   "mimetype": "text/x-python",
   "name": "python",
   "nbconvert_exporter": "python",
   "pygments_lexer": "ipython3",
   "version": "3.9.2"
  }
 },
 "nbformat": 4,
 "nbformat_minor": 5
}
