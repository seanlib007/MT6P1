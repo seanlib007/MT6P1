{
 "cells": [
  {
   "cell_type": "code",
   "execution_count": 8,
   "id": "continued-employee",
   "metadata": {},
   "outputs": [],
   "source": [
    "from sympy import *\n",
    "from sympy.abc import x,t\n",
    "def wavef(f,g,c,l):\n",
    "    sol=0\n",
    "    for n in range(1,4):\n",
    "        cn=(2/l)*integrate(f*sin(n*pi*x/l),(x,0,l))\n",
    "        dn=(2/(n*pi*c))*integrate(g*sin(n*pi*x/l),(x,0,l))\n",
    "        sol+=(cn*cos(n*pi*c*t/l)+dn*sin(n*pi*c*t/l))*sin(n*pi*x/l)\n",
    "    print(\"the soultion of the wave equation is\")\n",
    "    pprint(sol)"
   ]
  },
  {
   "cell_type": "code",
   "execution_count": 9,
   "id": "secondary-brake",
   "metadata": {},
   "outputs": [
    {
     "name": "stdout",
     "output_type": "stream",
     "text": [
      "the soultion of the wave equation is\n",
      "        ⎛π⋅x⎞    ⎛π⋅t⎞           ⎛3⋅π⋅x⎞    ⎛3⋅π⋅t⎞\n",
      "0.75⋅sin⎜───⎟⋅cos⎜───⎟ - 0.25⋅sin⎜─────⎟⋅cos⎜─────⎟\n",
      "        ⎝ 2 ⎠    ⎝ 2 ⎠           ⎝  2  ⎠    ⎝  2  ⎠\n"
     ]
    }
   ],
   "source": [
    "wavef(sin(pi*x/2)**3,0,1,2)"
   ]
  },
  {
   "cell_type": "code",
   "execution_count": 10,
   "id": "intimate-bathroom",
   "metadata": {},
   "outputs": [
    {
     "name": "stdout",
     "output_type": "stream",
     "text": [
      "the soultion of the wave equation is\n",
      "sin(x)⋅cos(t)\n"
     ]
    }
   ],
   "source": [
    "wavef(sin(x),0,1,pi)"
   ]
  },
  {
   "cell_type": "code",
   "execution_count": 11,
   "id": "seasonal-alexandria",
   "metadata": {},
   "outputs": [
    {
     "name": "stdout",
     "output_type": "stream",
     "text": [
      "the soultion of the wave equation is\n",
      "                                    ⎛   3      ⎞                         ⎛    \n",
      "                                    ⎜  π    3⋅π⎟                         ⎜  2⋅\n",
      "  ⎛        3⎞                     2⋅⎜- ── + ───⎟⋅sin(2⋅x)⋅cos(1.0⋅t)   2⋅⎜- ──\n",
      "2⋅⎝-6⋅π + π ⎠⋅sin(x)⋅cos(0.5⋅t)     ⎝  2     4 ⎠                         ⎝   9\n",
      "─────────────────────────────── + ────────────────────────────────── + ───────\n",
      "               π                                  π                           \n",
      "\n",
      "     3⎞                    \n",
      "π   π ⎟                    \n",
      "─ + ──⎟⋅sin(3⋅x)⋅cos(1.5⋅t)\n",
      "    3 ⎠                    \n",
      "───────────────────────────\n",
      "         π                 \n"
     ]
    }
   ],
   "source": [
    "wavef(x**3,0,1/2,pi)"
   ]
  },
  {
   "cell_type": "code",
   "execution_count": null,
   "id": "normal-house",
   "metadata": {},
   "outputs": [],
   "source": []
  }
 ],
 "metadata": {
  "kernelspec": {
   "display_name": "Python 3",
   "language": "python",
   "name": "python3"
  },
  "language_info": {
   "codemirror_mode": {
    "name": "ipython",
    "version": 3
   },
   "file_extension": ".py",
   "mimetype": "text/x-python",
   "name": "python",
   "nbconvert_exporter": "python",
   "pygments_lexer": "ipython3",
   "version": "3.9.2"
  }
 },
 "nbformat": 4,
 "nbformat_minor": 5
}
