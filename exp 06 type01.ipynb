{
 "cells": [
  {
   "cell_type": "code",
   "execution_count": 3,
   "id": "working-oklahoma",
   "metadata": {},
   "outputs": [],
   "source": [
    "from sympy.abc import a,b,c,x,y,p,q\n",
    "from sympy import solve\n",
    "def type1(eq):\n",
    "    eqn=eq.subs(p,a).subs(q,b)\n",
    "    b_val=solve(eqn,b)[0]\n",
    "    z=a*x+b_val*y+c\n",
    "    print(\"the solution i z=\",z)\n"
   ]
  },
  {
   "cell_type": "code",
   "execution_count": 4,
   "id": "proof-orlando",
   "metadata": {},
   "outputs": [
    {
     "name": "stdout",
     "output_type": "stream",
     "text": [
      "the solution i z= a*x + c - y*sqrt(1 - a**2)\n"
     ]
    }
   ],
   "source": [
    "type1(p**2+q**2-1)"
   ]
  },
  {
   "cell_type": "code",
   "execution_count": 5,
   "id": "cooked-scoop",
   "metadata": {},
   "outputs": [
    {
     "name": "stdout",
     "output_type": "stream",
     "text": [
      "the solution i z= a*x + c + y/a\n"
     ]
    }
   ],
   "source": [
    "type1(p*q-1)"
   ]
  },
  {
   "cell_type": "code",
   "execution_count": 6,
   "id": "colored-guarantee",
   "metadata": {},
   "outputs": [
    {
     "name": "stdout",
     "output_type": "stream",
     "text": [
      "the solution i z= a*x - a*y/(a + 1) + c\n"
     ]
    }
   ],
   "source": [
    "type1(p*q+p+q)"
   ]
  },
  {
   "cell_type": "code",
   "execution_count": null,
   "id": "advanced-dominican",
   "metadata": {},
   "outputs": [],
   "source": []
  }
 ],
 "metadata": {
  "kernelspec": {
   "display_name": "Python 3",
   "language": "python",
   "name": "python3"
  },
  "language_info": {
   "codemirror_mode": {
    "name": "ipython",
    "version": 3
   },
   "file_extension": ".py",
   "mimetype": "text/x-python",
   "name": "python",
   "nbconvert_exporter": "python",
   "pygments_lexer": "ipython3",
   "version": "3.9.2"
  }
 },
 "nbformat": 4,
 "nbformat_minor": 5
}
