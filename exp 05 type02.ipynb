{
 "cells": [
  {
   "cell_type": "code",
   "execution_count": 7,
   "id": "invisible-hello",
   "metadata": {},
   "outputs": [
    {
     "name": "stdout",
     "output_type": "stream",
     "text": [
      "[0, -sqrt(a*z(u) - a + 1)/a, sqrt(a*z(u) - a + 1)/a]\n",
      "the required solution is  Eq(z(a*y + x), C1**2*a/4 + C1*(a*y + x)/2 + 1 + (a*y + x)**2/(4*a) - 1/a)\n"
     ]
    }
   ],
   "source": [
    "from sympy.abc import u,x,y,c,a,p,q\n",
    "from sympy import Function,solve,dsolve,diff\n",
    "z=Function('z')(u)\n",
    "eq=p*(1-q**2)-q*(1-z)\n",
    "eqn=eq.subs(p,diff(z,u)).subs(q,a*diff(z,u))\n",
    "h=solve(eqn,diff(z,u))\n",
    "print(h)\n",
    "sol=dsolve(diff(z,u)-h[2])\n",
    "print(\"the required solution is \",sol.subs(u,x+a*y))"
   ]
  },
  {
   "cell_type": "code",
   "execution_count": 8,
   "id": "right-phrase",
   "metadata": {},
   "outputs": [
    {
     "name": "stdout",
     "output_type": "stream",
     "text": [
      "[0, z(u) - 1/a]\n",
      "the required solution is  Eq(z(a*y + x), (exp(C1*a + a*y + x) + 1)/a)\n"
     ]
    }
   ],
   "source": [
    "from sympy.abc import u,x,y,c,a,p,q\n",
    "from sympy import Function,solve,dsolve,diff\n",
    "z=Function('z')(u)\n",
    "eq=p*(1+q)-z*q\n",
    "eqn=eq.subs(p,diff(z,u)).subs(q,a*diff(z,u))\n",
    "h=solve(eqn,diff(z,u))\n",
    "print(h)\n",
    "sol=dsolve(diff(z,u)-h[1])\n",
    "print(\"the required solution is \",sol.subs(u,x+a*y))"
   ]
  },
  {
   "cell_type": "code",
   "execution_count": 9,
   "id": "associate-trademark",
   "metadata": {},
   "outputs": [
    {
     "name": "stdout",
     "output_type": "stream",
     "text": [
      "[0]\n",
      "the required solution is  Eq(z(a*y + x), C1)\n"
     ]
    }
   ],
   "source": [
    "from sympy.abc import u,x,y,c,a,p,q\n",
    "from sympy import Function,solve,dsolve,diff\n",
    "z=Function('z')(u)\n",
    "eq=p-q*z\n",
    "eqn=eq.subs(p,diff(z,u)).subs(q,a*diff(z,u))\n",
    "h=solve(eqn,diff(z,u))\n",
    "print(h)\n",
    "sol=dsolve(diff(z,u)-h[0])\n",
    "print(\"the required solution is \",sol.subs(u,x+a*y))"
   ]
  },
  {
   "cell_type": "code",
   "execution_count": null,
   "id": "tested-circuit",
   "metadata": {},
   "outputs": [],
   "source": []
  }
 ],
 "metadata": {
  "kernelspec": {
   "display_name": "Python 3",
   "language": "python",
   "name": "python3"
  },
  "language_info": {
   "codemirror_mode": {
    "name": "ipython",
    "version": 3
   },
   "file_extension": ".py",
   "mimetype": "text/x-python",
   "name": "python",
   "nbconvert_exporter": "python",
   "pygments_lexer": "ipython3",
   "version": "3.9.2"
  }
 },
 "nbformat": 4,
 "nbformat_minor": 5
}
