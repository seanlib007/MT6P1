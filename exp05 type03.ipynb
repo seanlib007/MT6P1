{
 "cells": [
  {
   "cell_type": "code",
   "execution_count": 34,
   "id": "realistic-fossil",
   "metadata": {},
   "outputs": [],
   "source": [
    "from sympy.abc import x,y,a,p,q\n",
    "from sympy import *\n",
    "def type3(f1,f2):\n",
    "    r1=solve(f1-a,p)\n",
    "    r2=solve(f2-a,q)\n",
    "    print(r1,r2)\n",
    "    z=integrate(r1[0],x)+integrate(r2[0],y)\n",
    "    print(\"the solution is z=\",z)"
   ]
  },
  {
   "cell_type": "code",
   "execution_count": 35,
   "id": "whole-delight",
   "metadata": {},
   "outputs": [
    {
     "name": "stdout",
     "output_type": "stream",
     "text": [
      "[a - x] [a - y]\n",
      "the solution is z= a*x + a*y - x**2/2 - y**2/2\n"
     ]
    }
   ],
   "source": [
    "type3(p+x,q+y)"
   ]
  },
  {
   "cell_type": "code",
   "execution_count": 36,
   "id": "connected-questionnaire",
   "metadata": {},
   "outputs": [
    {
     "name": "stdout",
     "output_type": "stream",
     "text": [
      "[a + cos(x)] [a/cos(y)]\n",
      "the solution is z= a*x + a*(-log(sin(y) - 1)/2 + log(sin(y) + 1)/2) + sin(x)\n"
     ]
    }
   ],
   "source": [
    "type3(p-cos(x),q*cos(y))"
   ]
  },
  {
   "cell_type": "code",
   "execution_count": 37,
   "id": "annoying-cuisine",
   "metadata": {},
   "outputs": [
    {
     "name": "stdout",
     "output_type": "stream",
     "text": [
      "[a + sin(x)] [-a + sin(y)]\n",
      "the solution is z= a*x - a*y - cos(x) - cos(y)\n"
     ]
    }
   ],
   "source": [
    "type3(p-sin(x),-q+sin(y))"
   ]
  },
  {
   "cell_type": "code",
   "execution_count": null,
   "id": "thick-bridge",
   "metadata": {},
   "outputs": [],
   "source": []
  }
 ],
 "metadata": {
  "kernelspec": {
   "display_name": "Python 3",
   "language": "python",
   "name": "python3"
  },
  "language_info": {
   "codemirror_mode": {
    "name": "ipython",
    "version": 3
   },
   "file_extension": ".py",
   "mimetype": "text/x-python",
   "name": "python",
   "nbconvert_exporter": "python",
   "pygments_lexer": "ipython3",
   "version": "3.9.2"
  }
 },
 "nbformat": 4,
 "nbformat_minor": 5
}
