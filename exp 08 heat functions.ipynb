{
 "cells": [
  {
   "cell_type": "code",
   "execution_count": 10,
   "id": "revised-madison",
   "metadata": {},
   "outputs": [],
   "source": [
    "from sympy import *\n",
    "from sympy.abc import x,t,c\n",
    "def heat(f,c,l):\n",
    "    sol=0\n",
    "    for n in range(1,5):\n",
    "        bn=(2/l)*integrate(f*sin(n*pi*x/l),(x,0,l))\n",
    "        sol+=(bn*si(n*pi*x/l))*exp(((-n*pi*c/l)**2)*t)\n",
    "    print(\"The soultion of the wave equation is\")\n",
    "    pprint(sol)"
   ]
  },
  {
   "cell_type": "code",
   "execution_count": 11,
   "id": "equipped-telescope",
   "metadata": {},
   "outputs": [
    {
     "name": "stdout",
     "output_type": "stream",
     "text": [
      "The soultion of the wave equation is\n",
      "                       2                        2           \n",
      "                   36⋅π ⋅t                   4⋅π ⋅t         \n",
      "0.296296296296296⋅ℯ       ⋅cos(3⋅π⋅x)   8.0⋅ℯ      ⋅cos(π⋅x)\n",
      "───────────────────────────────────── + ────────────────────\n",
      "                   3                              3         \n",
      "                  π                              π          \n"
     ]
    }
   ],
   "source": [
    "heat(x-x**2,2,1)"
   ]
  },
  {
   "cell_type": "code",
   "execution_count": 12,
   "id": "dominant-appeal",
   "metadata": {},
   "outputs": [
    {
     "name": "stdout",
     "output_type": "stream",
     "text": [
      "The soultion of the wave equation is\n",
      "         2                        2             \n",
      "     16⋅π ⋅t                   4⋅π ⋅t           \n",
      "3.2⋅ℯ       ⋅cos(4⋅π⋅x)   8.0⋅ℯ      ⋅cos(2⋅π⋅x)\n",
      "─────────────────────── + ──────────────────────\n",
      "           π                        π           \n"
     ]
    }
   ],
   "source": [
    "heat(3*cos(pi*x),1,1)"
   ]
  },
  {
   "cell_type": "code",
   "execution_count": 13,
   "id": "falling-attack",
   "metadata": {},
   "outputs": [
    {
     "name": "stdout",
     "output_type": "stream",
     "text": [
      "The soultion of the wave equation is\n",
      "            2  2                                     2  2                     \n",
      "        16⋅π ⋅c ⋅t                                9⋅π ⋅c ⋅t                   \n",
      "  50.0⋅ℯ          ⋅cos(4⋅π⋅x)   66.6666666666667⋅ℯ         ⋅cos(3⋅π⋅x)   100.0\n",
      "- ─────────────────────────── + ────────────────────────────────────── - ─────\n",
      "               π                                  π                           \n",
      "\n",
      "     2  2                        2  2           \n",
      "  4⋅π ⋅c ⋅t                     π ⋅c ⋅t         \n",
      "⋅ℯ         ⋅cos(2⋅π⋅x)   200.0⋅ℯ       ⋅cos(π⋅x)\n",
      "────────────────────── + ───────────────────────\n",
      "        π                           π           \n"
     ]
    }
   ],
   "source": [
    "heat(100*x,c,1)"
   ]
  },
  {
   "cell_type": "code",
   "execution_count": null,
   "id": "viral-cricket",
   "metadata": {},
   "outputs": [],
   "source": []
  }
 ],
 "metadata": {
  "kernelspec": {
   "display_name": "Python 3",
   "language": "python",
   "name": "python3"
  },
  "language_info": {
   "codemirror_mode": {
    "name": "ipython",
    "version": 3
   },
   "file_extension": ".py",
   "mimetype": "text/x-python",
   "name": "python",
   "nbconvert_exporter": "python",
   "pygments_lexer": "ipython3",
   "version": "3.9.2"
  }
 },
 "nbformat": 4,
 "nbformat_minor": 5
}
